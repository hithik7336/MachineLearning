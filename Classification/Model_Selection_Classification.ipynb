{
 "cells": [
  {
   "cell_type": "markdown",
   "metadata": {},
   "source": [
    "# MODEL SELECTION CLASSIFICATION"
   ]
  },
  {
   "cell_type": "markdown",
   "metadata": {},
   "source": [
    "## Importing The Libraries & Dataset"
   ]
  },
  {
   "cell_type": "code",
   "execution_count": 1,
   "metadata": {},
   "outputs": [],
   "source": [
    "# IMPORTING THE LIBRARIES\n",
    "\n",
    "import numpy as np\n",
    "import pandas as pd\n",
    "\n",
    "from matplotlib import pyplot as plt\n",
    "%matplotlib inline\n",
    "\n",
    "import seaborn as sns"
   ]
  },
  {
   "cell_type": "code",
   "execution_count": 2,
   "metadata": {},
   "outputs": [],
   "source": [
    "# IMPORTING THE DATASET\n",
    "\n",
    "data = pd.read_csv('Data.csv')"
   ]
  },
  {
   "cell_type": "code",
   "execution_count": 3,
   "metadata": {},
   "outputs": [
    {
     "data": {
      "text/html": [
       "<div>\n",
       "<style scoped>\n",
       "    .dataframe tbody tr th:only-of-type {\n",
       "        vertical-align: middle;\n",
       "    }\n",
       "\n",
       "    .dataframe tbody tr th {\n",
       "        vertical-align: top;\n",
       "    }\n",
       "\n",
       "    .dataframe thead th {\n",
       "        text-align: right;\n",
       "    }\n",
       "</style>\n",
       "<table border=\"1\" class=\"dataframe\">\n",
       "  <thead>\n",
       "    <tr style=\"text-align: right;\">\n",
       "      <th></th>\n",
       "      <th>Sample code number</th>\n",
       "      <th>Clump Thickness</th>\n",
       "      <th>Uniformity of Cell Size</th>\n",
       "      <th>Uniformity of Cell Shape</th>\n",
       "      <th>Marginal Adhesion</th>\n",
       "      <th>Single Epithelial Cell Size</th>\n",
       "      <th>Bare Nuclei</th>\n",
       "      <th>Bland Chromatin</th>\n",
       "      <th>Normal Nucleoli</th>\n",
       "      <th>Mitoses</th>\n",
       "      <th>Class</th>\n",
       "    </tr>\n",
       "  </thead>\n",
       "  <tbody>\n",
       "    <tr>\n",
       "      <th>0</th>\n",
       "      <td>1000025</td>\n",
       "      <td>5</td>\n",
       "      <td>1</td>\n",
       "      <td>1</td>\n",
       "      <td>1</td>\n",
       "      <td>2</td>\n",
       "      <td>1</td>\n",
       "      <td>3</td>\n",
       "      <td>1</td>\n",
       "      <td>1</td>\n",
       "      <td>2</td>\n",
       "    </tr>\n",
       "    <tr>\n",
       "      <th>1</th>\n",
       "      <td>1002945</td>\n",
       "      <td>5</td>\n",
       "      <td>4</td>\n",
       "      <td>4</td>\n",
       "      <td>5</td>\n",
       "      <td>7</td>\n",
       "      <td>10</td>\n",
       "      <td>3</td>\n",
       "      <td>2</td>\n",
       "      <td>1</td>\n",
       "      <td>2</td>\n",
       "    </tr>\n",
       "    <tr>\n",
       "      <th>2</th>\n",
       "      <td>1015425</td>\n",
       "      <td>3</td>\n",
       "      <td>1</td>\n",
       "      <td>1</td>\n",
       "      <td>1</td>\n",
       "      <td>2</td>\n",
       "      <td>2</td>\n",
       "      <td>3</td>\n",
       "      <td>1</td>\n",
       "      <td>1</td>\n",
       "      <td>2</td>\n",
       "    </tr>\n",
       "    <tr>\n",
       "      <th>3</th>\n",
       "      <td>1016277</td>\n",
       "      <td>6</td>\n",
       "      <td>8</td>\n",
       "      <td>8</td>\n",
       "      <td>1</td>\n",
       "      <td>3</td>\n",
       "      <td>4</td>\n",
       "      <td>3</td>\n",
       "      <td>7</td>\n",
       "      <td>1</td>\n",
       "      <td>2</td>\n",
       "    </tr>\n",
       "    <tr>\n",
       "      <th>4</th>\n",
       "      <td>1017023</td>\n",
       "      <td>4</td>\n",
       "      <td>1</td>\n",
       "      <td>1</td>\n",
       "      <td>3</td>\n",
       "      <td>2</td>\n",
       "      <td>1</td>\n",
       "      <td>3</td>\n",
       "      <td>1</td>\n",
       "      <td>1</td>\n",
       "      <td>2</td>\n",
       "    </tr>\n",
       "  </tbody>\n",
       "</table>\n",
       "</div>"
      ],
      "text/plain": [
       "   Sample code number  Clump Thickness  Uniformity of Cell Size  \\\n",
       "0             1000025                5                        1   \n",
       "1             1002945                5                        4   \n",
       "2             1015425                3                        1   \n",
       "3             1016277                6                        8   \n",
       "4             1017023                4                        1   \n",
       "\n",
       "   Uniformity of Cell Shape  Marginal Adhesion  Single Epithelial Cell Size  \\\n",
       "0                         1                  1                            2   \n",
       "1                         4                  5                            7   \n",
       "2                         1                  1                            2   \n",
       "3                         8                  1                            3   \n",
       "4                         1                  3                            2   \n",
       "\n",
       "   Bare Nuclei  Bland Chromatin  Normal Nucleoli  Mitoses  Class  \n",
       "0            1                3                1        1      2  \n",
       "1           10                3                2        1      2  \n",
       "2            2                3                1        1      2  \n",
       "3            4                3                7        1      2  \n",
       "4            1                3                1        1      2  "
      ]
     },
     "execution_count": 3,
     "metadata": {},
     "output_type": "execute_result"
    }
   ],
   "source": [
    "# CHECKING THE HEAD OF DATA\n",
    "\n",
    "data.head()"
   ]
  },
  {
   "cell_type": "code",
   "execution_count": 4,
   "metadata": {},
   "outputs": [
    {
     "name": "stdout",
     "output_type": "stream",
     "text": [
      "<class 'pandas.core.frame.DataFrame'>\n",
      "RangeIndex: 683 entries, 0 to 682\n",
      "Data columns (total 11 columns):\n",
      " #   Column                       Non-Null Count  Dtype\n",
      "---  ------                       --------------  -----\n",
      " 0   Sample code number           683 non-null    int64\n",
      " 1   Clump Thickness              683 non-null    int64\n",
      " 2   Uniformity of Cell Size      683 non-null    int64\n",
      " 3   Uniformity of Cell Shape     683 non-null    int64\n",
      " 4   Marginal Adhesion            683 non-null    int64\n",
      " 5   Single Epithelial Cell Size  683 non-null    int64\n",
      " 6   Bare Nuclei                  683 non-null    int64\n",
      " 7   Bland Chromatin              683 non-null    int64\n",
      " 8   Normal Nucleoli              683 non-null    int64\n",
      " 9   Mitoses                      683 non-null    int64\n",
      " 10  Class                        683 non-null    int64\n",
      "dtypes: int64(11)\n",
      "memory usage: 58.8 KB\n"
     ]
    }
   ],
   "source": [
    "# CHECKING THE INFO OF THE DATA\n",
    "\n",
    "data.info()"
   ]
  },
  {
   "cell_type": "code",
   "execution_count": 5,
   "metadata": {},
   "outputs": [],
   "source": [
    "# SEPARATING THE DEPENDENT & INDEPENDENT VARIABLES\n",
    "\n",
    "X = data.iloc[:,:-1].values\n",
    "y = data.iloc[:,-1].values"
   ]
  },
  {
   "cell_type": "code",
   "execution_count": 6,
   "metadata": {},
   "outputs": [],
   "source": [
    "# TO AVOID EXPONENTIAL VALUES\n",
    "\n",
    "np.set_printoptions(suppress = True)"
   ]
  },
  {
   "cell_type": "markdown",
   "metadata": {},
   "source": [
    "## Dividing Data Into Train Test Split"
   ]
  },
  {
   "cell_type": "code",
   "execution_count": 7,
   "metadata": {},
   "outputs": [],
   "source": [
    "# IMPORTING THE train_test_split\n",
    "\n",
    "from sklearn.model_selection import train_test_split\n",
    "\n",
    "# DIVIDING DATA INTO TRAINING AND TESTING DATA\n",
    "\n",
    "X_train, X_test, y_train, y_test = train_test_split(X, y, test_size = 0.25, random_state = 0)"
   ]
  },
  {
   "cell_type": "markdown",
   "metadata": {},
   "source": [
    "## Feature Scaling Of Independent Variables"
   ]
  },
  {
   "cell_type": "code",
   "execution_count": 8,
   "metadata": {},
   "outputs": [],
   "source": [
    "# IMPORTING THE StandardScaler CLASS FOR FEATURE SCALING\n",
    "\n",
    "from sklearn.preprocessing import StandardScaler\n",
    "\n",
    "# CREATING AN INSTANCE OF StandardScaler CLASS\n",
    "\n",
    "scaler = StandardScaler()"
   ]
  },
  {
   "cell_type": "code",
   "execution_count": 9,
   "metadata": {},
   "outputs": [
    {
     "data": {
      "text/plain": [
       "array([[ 142932,       7,       6, ...,       9,      10,       2],\n",
       "       [1120559,       8,       3, ...,       8,       9,       8],\n",
       "       [1254538,       8,      10, ...,      10,      10,       1],\n",
       "       ...,\n",
       "       [1214092,       1,       1, ...,       1,       1,       1],\n",
       "       [1303489,       3,       1, ...,       2,       1,       1],\n",
       "       [ 378275,      10,       9, ...,       7,       7,       1]],\n",
       "      dtype=int64)"
      ]
     },
     "execution_count": 9,
     "metadata": {},
     "output_type": "execute_result"
    }
   ],
   "source": [
    "# CHECKING X_train BEFORE SCALING\n",
    "\n",
    "X_train"
   ]
  },
  {
   "cell_type": "code",
   "execution_count": 10,
   "metadata": {},
   "outputs": [
    {
     "data": {
      "text/plain": [
       "array([[1173347,       1,       1, ...,       1,       1,       1],\n",
       "       [1156017,       3,       1, ...,       2,       1,       1],\n",
       "       [ 706426,       5,       5, ...,       4,       3,       1],\n",
       "       ...,\n",
       "       [ 764974,       5,       1, ...,       3,       1,       2],\n",
       "       [1137156,       2,       2, ...,       7,       1,       1],\n",
       "       [1160476,       2,       1, ...,       3,       1,       1]],\n",
       "      dtype=int64)"
      ]
     },
     "execution_count": 10,
     "metadata": {},
     "output_type": "execute_result"
    }
   ],
   "source": [
    "# CHECKING X_test BEFORE SCALING\n",
    "\n",
    "X_test"
   ]
  },
  {
   "cell_type": "code",
   "execution_count": 11,
   "metadata": {},
   "outputs": [],
   "source": [
    "# FEATURE SCALING OF X_train\n",
    "\n",
    "X_train = scaler.fit_transform(X_train)\n",
    "\n",
    "# FEATURE SCALING X_test\n",
    "\n",
    "X_test = scaler.fit_transform(X_test)"
   ]
  },
  {
   "cell_type": "markdown",
   "metadata": {},
   "source": [
    "## Creating, Training & Making Predictions From The Different Models"
   ]
  },
  {
   "cell_type": "code",
   "execution_count": 22,
   "metadata": {},
   "outputs": [],
   "source": [
    "# IMPORTING THE LogisticRegression CLASS\n",
    "\n",
    "from sklearn.linear_model import LogisticRegression\n",
    "\n",
    "# CREATING AN INSTANCE OF LogisticRegression\n",
    "\n",
    "classifier1 = LogisticRegression()"
   ]
  },
  {
   "cell_type": "code",
   "execution_count": 23,
   "metadata": {},
   "outputs": [
    {
     "data": {
      "text/plain": [
       "LogisticRegression(C=1.0, class_weight=None, dual=False, fit_intercept=True,\n",
       "                   intercept_scaling=1, l1_ratio=None, max_iter=100,\n",
       "                   multi_class='auto', n_jobs=None, penalty='l2',\n",
       "                   random_state=None, solver='lbfgs', tol=0.0001, verbose=0,\n",
       "                   warm_start=False)"
      ]
     },
     "execution_count": 23,
     "metadata": {},
     "output_type": "execute_result"
    }
   ],
   "source": [
    "# FITTING THE MODEL\n",
    "\n",
    "classifier1.fit(X_train, y_train)"
   ]
  },
  {
   "cell_type": "code",
   "execution_count": 24,
   "metadata": {},
   "outputs": [],
   "source": [
    "# GETTING PREDICTION FORM MODEL\n",
    "\n",
    "y_pred_1 = classifier1.predict(X_test)"
   ]
  },
  {
   "cell_type": "code",
   "execution_count": 25,
   "metadata": {},
   "outputs": [],
   "source": [
    "# IMPORTING THE METRICS FOR CLASSIFICATION THE ACCURACY, CONFUSION MATRIX, & CLASSIFICATION REPORT\n",
    "\n",
    "from sklearn.metrics import accuracy_score, confusion_matrix, classification_report"
   ]
  },
  {
   "cell_type": "code",
   "execution_count": 26,
   "metadata": {},
   "outputs": [
    {
     "name": "stdout",
     "output_type": "stream",
     "text": [
      "The Accuracy Score Is:  0.9473684210526315\n",
      "\n",
      "\n",
      "The Confusion Matrix Is:  \n",
      " \n",
      " [[103   5]\n",
      " [  4  59]]\n",
      "\n",
      "\n",
      "The Classification Report is:  \n",
      " \n",
      "               precision    recall  f1-score   support\n",
      "\n",
      "           2       0.96      0.95      0.96       108\n",
      "           4       0.92      0.94      0.93        63\n",
      "\n",
      "    accuracy                           0.95       171\n",
      "   macro avg       0.94      0.95      0.94       171\n",
      "weighted avg       0.95      0.95      0.95       171\n",
      "\n"
     ]
    }
   ],
   "source": [
    "# EVALUATING THE LogisticRegression MODEL\n",
    "\n",
    "# PRINTING THE ACCURACY SCORE, CONFUSION MATRIX, & CLASSIFICATION REPORT\n",
    "\n",
    "print(\"The Accuracy Score Is: \", accuracy_score(y_pred_1, y_test))\n",
    "print(\"\\n\")\n",
    "print(\"The Confusion Matrix Is: \",\"\\n\",\"\\n\",confusion_matrix(y_pred_1, y_test))\n",
    "print(\"\\n\")\n",
    "print(\"The Classification Report is: \",\"\\n\",\"\\n\",classification_report(y_pred_1, y_test))"
   ]
  },
  {
   "cell_type": "code",
   "execution_count": 38,
   "metadata": {},
   "outputs": [],
   "source": [
    "# IMPORTING THE KNeighborsClassifier CLASS\n",
    "\n",
    "from sklearn.neighbors import KNeighborsClassifier\n",
    "\n",
    "# CREATING AN INSTANCE OF KNEighborsClassifier\n",
    "\n",
    "classifier2 = KNeighborsClassifier()"
   ]
  },
  {
   "cell_type": "code",
   "execution_count": 40,
   "metadata": {},
   "outputs": [
    {
     "data": {
      "text/plain": [
       "KNeighborsClassifier(algorithm='auto', leaf_size=30, metric='minkowski',\n",
       "                     metric_params=None, n_jobs=None, n_neighbors=5, p=2,\n",
       "                     weights='uniform')"
      ]
     },
     "execution_count": 40,
     "metadata": {},
     "output_type": "execute_result"
    }
   ],
   "source": [
    "# FITTING THE MODEL\n",
    "\n",
    "classifier2.fit(X_train, y_train)"
   ]
  },
  {
   "cell_type": "code",
   "execution_count": 41,
   "metadata": {},
   "outputs": [],
   "source": [
    "# GETTING PREDICTION FORM MODEL\n",
    "\n",
    "y_pred_2 = classifier2.predict(X_test)"
   ]
  },
  {
   "cell_type": "code",
   "execution_count": 42,
   "metadata": {},
   "outputs": [
    {
     "name": "stdout",
     "output_type": "stream",
     "text": [
      "The Accuracy Score Is:  0.9415204678362573\n",
      "\n",
      "\n",
      "The Confusion Matrix Is:  \n",
      " \n",
      " [[102   5]\n",
      " [  5  59]]\n",
      "\n",
      "\n",
      "The Classification Report is:  \n",
      " \n",
      "               precision    recall  f1-score   support\n",
      "\n",
      "           2       0.95      0.95      0.95       107\n",
      "           4       0.92      0.92      0.92        64\n",
      "\n",
      "    accuracy                           0.94       171\n",
      "   macro avg       0.94      0.94      0.94       171\n",
      "weighted avg       0.94      0.94      0.94       171\n",
      "\n"
     ]
    }
   ],
   "source": [
    "# EVALUATING THE KNeighborsClassifier MODEL\n",
    "\n",
    "# PRINTING THE ACCURACY SCORE, CONFUSION MATRIX, & CLASSIFICATION REPORT\n",
    "\n",
    "print(\"The Accuracy Score Is: \", accuracy_score(y_pred_2, y_test))\n",
    "print(\"\\n\")\n",
    "print(\"The Confusion Matrix Is: \",\"\\n\",\"\\n\",confusion_matrix(y_pred_2, y_test))\n",
    "print(\"\\n\")\n",
    "print(\"The Classification Report is: \",\"\\n\",\"\\n\",classification_report(y_pred_2, y_test))"
   ]
  },
  {
   "cell_type": "code",
   "execution_count": 43,
   "metadata": {},
   "outputs": [],
   "source": [
    "# IMPORTING THE GaussianNB CLASS\n",
    "\n",
    "from sklearn.naive_bayes import GaussianNB\n",
    "\n",
    "# CREATING AN INSTANCE OF GaussianNB\n",
    "\n",
    "classifier3 = GaussianNB()"
   ]
  },
  {
   "cell_type": "code",
   "execution_count": 45,
   "metadata": {},
   "outputs": [
    {
     "data": {
      "text/plain": [
       "GaussianNB(priors=None, var_smoothing=1e-09)"
      ]
     },
     "execution_count": 45,
     "metadata": {},
     "output_type": "execute_result"
    }
   ],
   "source": [
    "# FITTING THE MODEL\n",
    "\n",
    "classifier3.fit(X_train, y_train)"
   ]
  },
  {
   "cell_type": "code",
   "execution_count": 46,
   "metadata": {},
   "outputs": [],
   "source": [
    "# GETTING PREDICTION FORM MODEL\n",
    "\n",
    "y_pred_3 = classifier3.predict(X_test)"
   ]
  },
  {
   "cell_type": "code",
   "execution_count": 47,
   "metadata": {},
   "outputs": [
    {
     "name": "stdout",
     "output_type": "stream",
     "text": [
      "The Accuracy Score Is:  0.9415204678362573\n",
      "\n",
      "\n",
      "The Confusion Matrix Is:  \n",
      " \n",
      " [[100   3]\n",
      " [  7  61]]\n",
      "\n",
      "\n",
      "The Classification Report is:  \n",
      " \n",
      "               precision    recall  f1-score   support\n",
      "\n",
      "           2       0.93      0.97      0.95       103\n",
      "           4       0.95      0.90      0.92        68\n",
      "\n",
      "    accuracy                           0.94       171\n",
      "   macro avg       0.94      0.93      0.94       171\n",
      "weighted avg       0.94      0.94      0.94       171\n",
      "\n"
     ]
    }
   ],
   "source": [
    "# EVALUATING THE GaussianNB MODEL\n",
    "\n",
    "# PRINTING THE ACCURACY SCORE, CONFUSION MATRIX, & CLASSIFICATION REPORT\n",
    "\n",
    "print(\"The Accuracy Score Is: \", accuracy_score(y_pred_3, y_test))\n",
    "print(\"\\n\")\n",
    "print(\"The Confusion Matrix Is: \",\"\\n\",\"\\n\",confusion_matrix(y_pred_3, y_test))\n",
    "print(\"\\n\")\n",
    "print(\"The Classification Report is: \",\"\\n\",\"\\n\",classification_report(y_pred_3, y_test))"
   ]
  },
  {
   "cell_type": "code",
   "execution_count": 48,
   "metadata": {},
   "outputs": [],
   "source": [
    "# IMPORTING THE SVC CLASS\n",
    "\n",
    "from sklearn.svm import SVC\n",
    "\n",
    "# CREATING AN INSTANCE OF SVC\n",
    "\n",
    "classifier4 = SVC(kernel = 'linear')"
   ]
  },
  {
   "cell_type": "code",
   "execution_count": 50,
   "metadata": {},
   "outputs": [
    {
     "data": {
      "text/plain": [
       "SVC(C=1.0, break_ties=False, cache_size=200, class_weight=None, coef0=0.0,\n",
       "    decision_function_shape='ovr', degree=3, gamma='scale', kernel='linear',\n",
       "    max_iter=-1, probability=False, random_state=None, shrinking=True,\n",
       "    tol=0.001, verbose=False)"
      ]
     },
     "execution_count": 50,
     "metadata": {},
     "output_type": "execute_result"
    }
   ],
   "source": [
    "# FITTING THE MODEL\n",
    "\n",
    "classifier4.fit(X_train, y_train)"
   ]
  },
  {
   "cell_type": "code",
   "execution_count": 51,
   "metadata": {},
   "outputs": [],
   "source": [
    "# GETTING PREDICTIONS FROM MODEL\n",
    "\n",
    "y_pred_4  = classifier4.predict(X_test)"
   ]
  },
  {
   "cell_type": "code",
   "execution_count": 52,
   "metadata": {},
   "outputs": [
    {
     "name": "stdout",
     "output_type": "stream",
     "text": [
      "The Accuracy Score Is:  0.9415204678362573\n",
      "\n",
      "\n",
      "The Confusion Matrix Is:  \n",
      " \n",
      " [[102   5]\n",
      " [  5  59]]\n",
      "\n",
      "\n",
      "The Classification Report is:  \n",
      " \n",
      "               precision    recall  f1-score   support\n",
      "\n",
      "           2       0.95      0.95      0.95       107\n",
      "           4       0.92      0.92      0.92        64\n",
      "\n",
      "    accuracy                           0.94       171\n",
      "   macro avg       0.94      0.94      0.94       171\n",
      "weighted avg       0.94      0.94      0.94       171\n",
      "\n"
     ]
    }
   ],
   "source": [
    "# EVALUATING THE Linear SVC MODEL\n",
    "\n",
    "# PRINTING THE ACCURACY SCORE, CONFUSION MATRIX, & CLASSIFICATION REPORT\n",
    "\n",
    "print(\"The Accuracy Score Is: \", accuracy_score(y_pred_4, y_test))\n",
    "print(\"\\n\")\n",
    "print(\"The Confusion Matrix Is: \",\"\\n\",\"\\n\",confusion_matrix(y_pred_4, y_test))\n",
    "print(\"\\n\")\n",
    "print(\"The Classification Report is: \",\"\\n\",\"\\n\",classification_report(y_pred_4, y_test))"
   ]
  },
  {
   "cell_type": "code",
   "execution_count": 53,
   "metadata": {},
   "outputs": [],
   "source": [
    "# IMPORTING THE SVC CLASS\n",
    "\n",
    "from sklearn.svm import SVC\n",
    "\n",
    "# CREATING AN INSTANCE OF SVC\n",
    "\n",
    "classifier5 = SVC(kernel = 'rbf')"
   ]
  },
  {
   "cell_type": "code",
   "execution_count": 54,
   "metadata": {},
   "outputs": [
    {
     "data": {
      "text/plain": [
       "SVC(C=1.0, break_ties=False, cache_size=200, class_weight=None, coef0=0.0,\n",
       "    decision_function_shape='ovr', degree=3, gamma='scale', kernel='rbf',\n",
       "    max_iter=-1, probability=False, random_state=None, shrinking=True,\n",
       "    tol=0.001, verbose=False)"
      ]
     },
     "execution_count": 54,
     "metadata": {},
     "output_type": "execute_result"
    }
   ],
   "source": [
    "# FITTING THE MODEL\n",
    "\n",
    "classifier5.fit(X_train, y_train)"
   ]
  },
  {
   "cell_type": "code",
   "execution_count": 55,
   "metadata": {},
   "outputs": [],
   "source": [
    "# GETTING PREDICTIONS FROM MODEL\n",
    "\n",
    "y_pred_5  = classifier5.predict(X_test)"
   ]
  },
  {
   "cell_type": "code",
   "execution_count": 56,
   "metadata": {},
   "outputs": [
    {
     "name": "stdout",
     "output_type": "stream",
     "text": [
      "The Accuracy Score Is:  0.9473684210526315\n",
      "\n",
      "\n",
      "The Confusion Matrix Is:  \n",
      " \n",
      " [[101   3]\n",
      " [  6  61]]\n",
      "\n",
      "\n",
      "The Classification Report is:  \n",
      " \n",
      "               precision    recall  f1-score   support\n",
      "\n",
      "           2       0.94      0.97      0.96       104\n",
      "           4       0.95      0.91      0.93        67\n",
      "\n",
      "    accuracy                           0.95       171\n",
      "   macro avg       0.95      0.94      0.94       171\n",
      "weighted avg       0.95      0.95      0.95       171\n",
      "\n"
     ]
    }
   ],
   "source": [
    "# EVALUATING THE Kernel SVC MODEL\n",
    "\n",
    "# PRINTING THE ACCURACY SCORE, CONFUSION MATRIX, & CLASSIFICATION REPORT\n",
    "\n",
    "print(\"The Accuracy Score Is: \", accuracy_score(y_pred_5, y_test))\n",
    "print(\"\\n\")\n",
    "print(\"The Confusion Matrix Is: \",\"\\n\",\"\\n\",confusion_matrix(y_pred_5, y_test))\n",
    "print(\"\\n\")\n",
    "print(\"The Classification Report is: \",\"\\n\",\"\\n\",classification_report(y_pred_5, y_test))"
   ]
  },
  {
   "cell_type": "code",
   "execution_count": 58,
   "metadata": {},
   "outputs": [],
   "source": [
    "# IMPORTING THE DecisionTreeClassifier CLASS\n",
    "\n",
    "from sklearn.tree import DecisionTreeClassifier\n",
    "\n",
    "# CREATING AN INSTANCE OF DecisionTreeClassifier\n",
    "\n",
    "classifier6 = DecisionTreeClassifier(criterion = 'entropy')"
   ]
  },
  {
   "cell_type": "code",
   "execution_count": 59,
   "metadata": {},
   "outputs": [
    {
     "data": {
      "text/plain": [
       "DecisionTreeClassifier(ccp_alpha=0.0, class_weight=None, criterion='entropy',\n",
       "                       max_depth=None, max_features=None, max_leaf_nodes=None,\n",
       "                       min_impurity_decrease=0.0, min_impurity_split=None,\n",
       "                       min_samples_leaf=1, min_samples_split=2,\n",
       "                       min_weight_fraction_leaf=0.0, presort='deprecated',\n",
       "                       random_state=None, splitter='best')"
      ]
     },
     "execution_count": 59,
     "metadata": {},
     "output_type": "execute_result"
    }
   ],
   "source": [
    "# FITTING THE MODEL\n",
    "\n",
    "classifier6.fit(X_train, y_train)"
   ]
  },
  {
   "cell_type": "code",
   "execution_count": 60,
   "metadata": {},
   "outputs": [],
   "source": [
    "# GETTING PREDICTIONS FROM MODEL\n",
    "\n",
    "y_pred_6  = classifier6.predict(X_test)"
   ]
  },
  {
   "cell_type": "code",
   "execution_count": 61,
   "metadata": {},
   "outputs": [
    {
     "name": "stdout",
     "output_type": "stream",
     "text": [
      "The Accuracy Score Is:  0.9532163742690059\n",
      "\n",
      "\n",
      "The Confusion Matrix Is:  \n",
      " \n",
      " [[103   4]\n",
      " [  4  60]]\n",
      "\n",
      "\n",
      "The Classification Report is:  \n",
      " \n",
      "               precision    recall  f1-score   support\n",
      "\n",
      "           2       0.96      0.96      0.96       107\n",
      "           4       0.94      0.94      0.94        64\n",
      "\n",
      "    accuracy                           0.95       171\n",
      "   macro avg       0.95      0.95      0.95       171\n",
      "weighted avg       0.95      0.95      0.95       171\n",
      "\n"
     ]
    }
   ],
   "source": [
    "# EVALUATING THE DecisionTreeClassifier MODEL\n",
    "\n",
    "# PRINTING THE ACCURACY SCORE, CONFUSION MATRIX, & CLASSIFICATION REPORT\n",
    "\n",
    "print(\"The Accuracy Score Is: \", accuracy_score(y_pred_6, y_test))\n",
    "print(\"\\n\")\n",
    "print(\"The Confusion Matrix Is: \",\"\\n\",\"\\n\",confusion_matrix(y_pred_6, y_test))\n",
    "print(\"\\n\")\n",
    "print(\"The Classification Report is: \",\"\\n\",\"\\n\",classification_report(y_pred_6, y_test))"
   ]
  },
  {
   "cell_type": "code",
   "execution_count": 62,
   "metadata": {},
   "outputs": [],
   "source": [
    "# IMPORTING THE RandomForestClassifier CLASS\n",
    "\n",
    "from sklearn.ensemble import RandomForestClassifier\n",
    "\n",
    "# CREATING AN INSTANCE OF RandomForestClassifier\n",
    "\n",
    "classifier7 = RandomForestClassifier(n_estimators = 10, criterion = 'entropy')"
   ]
  },
  {
   "cell_type": "code",
   "execution_count": 63,
   "metadata": {},
   "outputs": [
    {
     "data": {
      "text/plain": [
       "RandomForestClassifier(bootstrap=True, ccp_alpha=0.0, class_weight=None,\n",
       "                       criterion='entropy', max_depth=None, max_features='auto',\n",
       "                       max_leaf_nodes=None, max_samples=None,\n",
       "                       min_impurity_decrease=0.0, min_impurity_split=None,\n",
       "                       min_samples_leaf=1, min_samples_split=2,\n",
       "                       min_weight_fraction_leaf=0.0, n_estimators=10,\n",
       "                       n_jobs=None, oob_score=False, random_state=None,\n",
       "                       verbose=0, warm_start=False)"
      ]
     },
     "execution_count": 63,
     "metadata": {},
     "output_type": "execute_result"
    }
   ],
   "source": [
    "# FITTING THE MODEL\n",
    "\n",
    "classifier7.fit(X_train, y_train)"
   ]
  },
  {
   "cell_type": "code",
   "execution_count": 64,
   "metadata": {},
   "outputs": [],
   "source": [
    "# GETTING PREDICTIONS FROM MODEL\n",
    "\n",
    "y_pred_7  = classifier7.predict(X_test)"
   ]
  },
  {
   "cell_type": "code",
   "execution_count": 65,
   "metadata": {},
   "outputs": [
    {
     "name": "stdout",
     "output_type": "stream",
     "text": [
      "The Accuracy Score Is:  0.9590643274853801\n",
      "\n",
      "\n",
      "The Confusion Matrix Is:  \n",
      " \n",
      " [[103   3]\n",
      " [  4  61]]\n",
      "\n",
      "\n",
      "The Classification Report is:  \n",
      " \n",
      "               precision    recall  f1-score   support\n",
      "\n",
      "           2       0.96      0.97      0.97       106\n",
      "           4       0.95      0.94      0.95        65\n",
      "\n",
      "    accuracy                           0.96       171\n",
      "   macro avg       0.96      0.96      0.96       171\n",
      "weighted avg       0.96      0.96      0.96       171\n",
      "\n"
     ]
    }
   ],
   "source": [
    "# EVALUATING THE RandomForestClassifier MODEL\n",
    "\n",
    "# PRINTING THE ACCURACY SCORE, CONFUSION MATRIX, & CLASSIFICATION REPORT\n",
    "\n",
    "print(\"The Accuracy Score Is: \", accuracy_score(y_pred_7, y_test))\n",
    "print(\"\\n\")\n",
    "print(\"The Confusion Matrix Is: \",\"\\n\",\"\\n\",confusion_matrix(y_pred_7, y_test))\n",
    "print(\"\\n\")\n",
    "print(\"The Classification Report is: \",\"\\n\",\"\\n\",classification_report(y_pred_7, y_test))"
   ]
  },
  {
   "cell_type": "code",
   "execution_count": null,
   "metadata": {},
   "outputs": [],
   "source": []
  }
 ],
 "metadata": {
  "kernelspec": {
   "display_name": "Python 3",
   "language": "python",
   "name": "python3"
  },
  "language_info": {
   "codemirror_mode": {
    "name": "ipython",
    "version": 3
   },
   "file_extension": ".py",
   "mimetype": "text/x-python",
   "name": "python",
   "nbconvert_exporter": "python",
   "pygments_lexer": "ipython3",
   "version": "3.7.7"
  }
 },
 "nbformat": 4,
 "nbformat_minor": 4
}
